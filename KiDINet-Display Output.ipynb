{
 "cells": [
  {
   "cell_type": "code",
   "execution_count": null,
   "metadata": {},
   "outputs": [],
   "source": [
    "from IPython.core.display import display, HTML, clear_output\n",
    "import base64\n",
    "import pickle"
   ]
  },
  {
   "cell_type": "code",
   "execution_count": null,
   "metadata": {},
   "outputs": [],
   "source": [
    "def show_output(photo_facts_list):\n",
    "    for photo in photo_facts_list:\n",
    "        clear_output()\n",
    "\n",
    "        faces = \"\"\n",
    "    for face in photo['faces']:\n",
    "        faces += f\"\"\"<div>\n",
    "        <img class=\"person-image\" src=\"data:image/jpeg;charset=utf-8;base64,{face['before']}\">\n",
    "        <img class=\"person-image\" src=\"data:image/jpeg;charset=utf-8;base64,{face['after']}\">\n",
    "        <h3>Age: {face['age']:.1f}</h3>\n",
    "        <h3>Gender: {face['gender']} </h3>\n",
    "        </div>\\n\"\"\"\n",
    "\n",
    "    display(HTML(f\"\"\"\n",
    "    <div class=\"eqi-container\">\n",
    "    <div class=\"title\"><h1>Photo: {photo['id']} </h1></div>\n",
    "    </div>\n",
    "\n",
    "    <div class=\"eqi-container\">\n",
    "    <div> <h2> Before Image</h2>\n",
    "      <img class=\"full-image\" src=\"data:image/jpeg;charset=utf-8;base64,{photo['before']}\">\n",
    "    </div>\n",
    "    <div> <h2> After Image</h2>\n",
    "      <img class=\"full-image\" src=\"data:image/jpeg;charset=utf-8;base64,{photo['after']}\">\n",
    "    </div>\n",
    "    </div>\n",
    "\n",
    "\n",
    "    <div class=\"eqi-container\">\n",
    "    {faces}\n",
    "    </div>\n",
    "\n",
    "    <style>\n",
    "    .eqi-container {{\n",
    "    display: flex;\n",
    "    justify-content: space-evenly;\n",
    "    }}\n",
    "    .eqi-container div {{\n",
    "    text-align:center;\n",
    "    }}\n",
    "\n",
    "    .person-image {{\n",
    "    max-width:150px;\n",
    "    max-height:150px;\n",
    "    }}\n",
    "\n",
    "    .full-image {{\n",
    "    max-width:350px;\n",
    "    max-height:350px;\n",
    "    }}\n",
    "\n",
    "    .title {{\n",
    "    text-align: center;\n",
    "    }}\n",
    "    </style>\"\"\"))\n",
    "    input()"
   ]
  },
  {
   "cell_type": "code",
   "execution_count": null,
   "metadata": {},
   "outputs": [],
   "source": [
    "# Open the previously saved output\n",
    "new_list = pickle.load(open(\"photo_facts.p\", \"rb\"))"
   ]
  },
  {
   "cell_type": "code",
   "execution_count": null,
   "metadata": {},
   "outputs": [],
   "source": [
    "show_output(new_list)"
   ]
  }
 ],
 "metadata": {
  "kernelspec": {
   "display_name": "Environment (conda_tensorflow2_p36)",
   "language": "python",
   "name": "conda_tensorflow2_p36"
  },
  "language_info": {
   "codemirror_mode": {
    "name": "ipython",
    "version": 3
   },
   "file_extension": ".py",
   "mimetype": "text/x-python",
   "name": "python",
   "nbconvert_exporter": "python",
   "pygments_lexer": "ipython3",
   "version": "3.6.10"
  }
 },
 "nbformat": 4,
 "nbformat_minor": 4
}
